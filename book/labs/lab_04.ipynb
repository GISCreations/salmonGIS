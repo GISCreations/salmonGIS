{
  "cells": [
    {
      "cell_type": "markdown",
      "metadata": {
        "id": "STHhf1bpLIvg"
      },
      "source": [
        "# Lab 4\n",
        "\n",
        "[![Open In Colab](https://colab.research.google.com/assets/colab-badge.svg)](https://colab.research.google.com/drive/1by2cuk0hy29GOqVFV1B_NFD9U7vSGlnn?usp=sharing)"
      ]
    },
    {
      "cell_type": "markdown",
      "metadata": {
        "id": "qRYlb5YILIvl"
      },
      "source": [
        "## Exercise 1: Variable Assignment and Basic Operations\n",
        "\n",
        "Create variables to store the following geospatial data:\n",
        "\n",
        "- The latitude and longitude of New York City: 40.7128, -74.0060.\n",
        "- The population of New York City: 8,336,817.\n",
        "- The area of New York City in square kilometers: 783.8.\n",
        "\n",
        "Perform the following tasks:\n",
        "\n",
        "1. Calculate and print the population density of New York City (population per square kilometer).\n",
        "2. Print the coordinates in the format \"Latitude: [latitude], Longitude: [longitude]\"."
      ]
    },
    {
      "cell_type": "code",
      "execution_count": 2,
      "metadata": {
        "id": "eECkj9YVLIvl",
        "outputId": "2b3f80fc-dc99-4e5c-8398-e851dd5dcd4d",
        "colab": {
          "base_uri": "https://localhost:8080/"
        }
      },
      "outputs": [
        {
          "output_type": "stream",
          "name": "stdout",
          "text": [
            "Population density of New York City: 10636.408522582293 people per square kilometer\n",
            "Coordinates of New York City: Latitude: 40.7128, Longitude: -74.006\n"
          ]
        }
      ],
      "source": [
        "new_york_city = {\n",
        "    \"latitude\": 40.7128,\n",
        "    \"longitude\": -74.0060,\n",
        "    \"population\": 8336817,\n",
        "    \"area\": 783.8\n",
        "}\n",
        "population_density = new_york_city[\"population\"] / new_york_city[\"area\"]\n",
        "print(f\"Population density of New York City: {population_density} people per square kilometer\")\n",
        "print(f\"Coordinates of New York City: Latitude: {new_york_city['latitude']}, Longitude: {new_york_city['longitude']}\")"
      ]
    },
    {
      "cell_type": "markdown",
      "metadata": {
        "id": "1mIMhh9gLIvm"
      },
      "source": [
        "## Exercise 2: Working with Strings\n",
        "\n",
        "Create a string variable to store the name of a city, such as \"San Francisco\". Perform the following operations:\n",
        "\n",
        "1. Convert the string to lowercase and print the result.\n",
        "2. Convert the string to uppercase and print the result.\n",
        "3. Replace \"San\" with \"Los\" in the city name and print the new string."
      ]
    },
    {
      "cell_type": "code",
      "execution_count": 3,
      "metadata": {
        "id": "BNtx5BA3LIvm",
        "outputId": "afa48d10-ba4c-45b5-a8f0-2726e623f161",
        "colab": {
          "base_uri": "https://localhost:8080/"
        }
      },
      "outputs": [
        {
          "output_type": "stream",
          "name": "stdout",
          "text": [
            "san francisco\n",
            "SAN FRANCISCO\n",
            "Los Francisco\n"
          ]
        }
      ],
      "source": [
        "city = \"San Francisco\"\n",
        "print(city.lower())\n",
        "print(city.upper())\n",
        "print(city.replace(\"San\", \"Los\"))"
      ]
    },
    {
      "cell_type": "markdown",
      "metadata": {
        "id": "dIiT_DWLLIvm"
      },
      "source": [
        "## Exercise 3: Using Lists\n",
        "\n",
        "Create a list of tuples, where each tuple contains the name of a city and its corresponding latitude and longitude:\n",
        "\n",
        "- New York City: (40.7128, -74.0060)\n",
        "- Los Angeles: (34.0522, -118.2437)\n",
        "- Chicago: (41.8781, -87.6298)\n",
        "\n",
        "Perform the following tasks:\n",
        "\n",
        "1. Add a new city (e.g., Miami: (25.7617, -80.1918)) to the list.\n",
        "2. Print the entire list of cities.\n",
        "3. Slice the list to print only the first two cities."
      ]
    },
    {
      "cell_type": "code",
      "execution_count": 32,
      "metadata": {
        "id": "eKvpmdl4LIvm",
        "outputId": "80288fc0-8c3d-44bb-ad2a-e3ee6d5c559f",
        "colab": {
          "base_uri": "https://localhost:8080/"
        }
      },
      "outputs": [
        {
          "output_type": "stream",
          "name": "stdout",
          "text": [
            "[('New York City', (40.7128, -74.006)), ('Los Angeles', (34.0522, -118.2437)), ('Chicago', (41.8781, -87.6298)), ('Miami', (25.7617, -80.1918))]\n",
            "[('New York City', (40.7128, -74.006)), ('Los Angeles', (34.0522, -118.2437))]\n"
          ]
        }
      ],
      "source": [
        "cities = []\n",
        "cities.append((\"New York City\", (40.7128, -74.0060)))\n",
        "cities.append((\"Los Angeles\", (34.0522, -118.2437)))\n",
        "cities.append((\"Chicago\", (41.8781, -87.6298)))\n",
        "cities.append((\"Miami\", (25.7617, -80.1918)))\n",
        "print(cities)\n",
        "print(cities[:2])"
      ]
    },
    {
      "cell_type": "markdown",
      "metadata": {
        "id": "-fnif0RfLIvm"
      },
      "source": [
        "## Exercise 4: Using Tuples\n",
        "\n",
        "Create a tuple to store the coordinates (latitude, longitude) of the Eiffel Tower: (48.8584, 2.2945). Perform the following tasks:\n",
        "\n",
        "1. Access and print the latitude and longitude values from the tuple.\n",
        "2. Try to change the latitude value to 48.8585. What happens? Explain why."
      ]
    },
    {
      "cell_type": "code",
      "execution_count": 7,
      "metadata": {
        "id": "MWSEiWyXLIvn",
        "outputId": "097296cc-5946-4497-c6eb-e91d180d36fe",
        "colab": {
          "base_uri": "https://localhost:8080/",
          "height": 207
        }
      },
      "outputs": [
        {
          "output_type": "stream",
          "name": "stdout",
          "text": [
            "48.8584\n",
            "2.2945\n"
          ]
        },
        {
          "output_type": "error",
          "ename": "TypeError",
          "evalue": "'tuple' object does not support item assignment",
          "traceback": [
            "\u001b[0;31m---------------------------------------------------------------------------\u001b[0m",
            "\u001b[0;31mTypeError\u001b[0m                                 Traceback (most recent call last)",
            "\u001b[0;32m<ipython-input-7-4dcf52b3876b>\u001b[0m in \u001b[0;36m<cell line: 0>\u001b[0;34m()\u001b[0m\n\u001b[1;32m      2\u001b[0m \u001b[0mprint\u001b[0m\u001b[0;34m(\u001b[0m\u001b[0meiffel_tower\u001b[0m\u001b[0;34m[\u001b[0m\u001b[0;36m0\u001b[0m\u001b[0;34m]\u001b[0m\u001b[0;34m)\u001b[0m\u001b[0;34m\u001b[0m\u001b[0;34m\u001b[0m\u001b[0m\n\u001b[1;32m      3\u001b[0m \u001b[0mprint\u001b[0m\u001b[0;34m(\u001b[0m\u001b[0meiffel_tower\u001b[0m\u001b[0;34m[\u001b[0m\u001b[0;36m1\u001b[0m\u001b[0;34m]\u001b[0m\u001b[0;34m)\u001b[0m\u001b[0;34m\u001b[0m\u001b[0;34m\u001b[0m\u001b[0m\n\u001b[0;32m----> 4\u001b[0;31m \u001b[0meiffel_tower\u001b[0m\u001b[0;34m[\u001b[0m\u001b[0;36m0\u001b[0m\u001b[0;34m]\u001b[0m \u001b[0;34m=\u001b[0m \u001b[0;36m48.8585\u001b[0m\u001b[0;34m\u001b[0m\u001b[0;34m\u001b[0m\u001b[0m\n\u001b[0m",
            "\u001b[0;31mTypeError\u001b[0m: 'tuple' object does not support item assignment"
          ]
        }
      ],
      "source": [
        "eiffel_tower = (48.8584, 2.2945)\n",
        "print(eiffel_tower[0])\n",
        "print(eiffel_tower[1])\n",
        "eiffel_tower[0] = 48.8585\n",
        "#The value isn't changed because tuples do not support item assignment"
      ]
    },
    {
      "cell_type": "markdown",
      "metadata": {
        "id": "BujwV-1bLIvn"
      },
      "source": [
        "## Exercise 5: Working with Sets\n",
        "\n",
        "Create a set of countries you have visited, such as {\"USA\", \"France\", \"Germany\"}. Perform the following tasks:\n",
        "\n",
        "1. Add a new country to the set.\n",
        "2. Try to add the same country again. What happens?\n",
        "3. Print the updated set."
      ]
    },
    {
      "cell_type": "code",
      "execution_count": 8,
      "metadata": {
        "id": "5TIkNjHbLIvn",
        "outputId": "f8bb983b-de89-48ba-81d8-0b4d8b747dd8",
        "colab": {
          "base_uri": "https://localhost:8080/"
        }
      },
      "outputs": [
        {
          "output_type": "stream",
          "name": "stdout",
          "text": [
            "{'Germany', 'France', 'USA', 'Canada'}\n"
          ]
        }
      ],
      "source": [
        "places = {\"USA\", \"France\", \"Germany\"}\n",
        "places.add(\"Canada\")\n",
        "places.add(\"Canada\")\n",
        "#You can't add duplicate values\n",
        "print(places)"
      ]
    },
    {
      "cell_type": "markdown",
      "metadata": {
        "id": "uWBMqFAdLIvn"
      },
      "source": [
        "## Exercise 6: Working with Dictionaries\n",
        "\n",
        "Create a dictionary to store information about a specific geospatial feature, such as a river:\n",
        "\n",
        "- Name: \"Amazon River\"\n",
        "- Length: 6400 km\n",
        "- Countries: [\"Brazil\", \"Peru\", \"Colombia\"]\n",
        "\n",
        "Perform the following tasks:\n",
        "\n",
        "1. Add a new key-value pair to the dictionary to store the river's average discharge (e.g., 209,000 m³/s).\n",
        "2. Update the length of the river to 6992 km.\n",
        "3. Print the dictionary."
      ]
    },
    {
      "cell_type": "code",
      "execution_count": 10,
      "metadata": {
        "id": "kTjxNidzLIvn",
        "outputId": "cf6ee726-cea7-42c2-bb5d-5a578703fcdc",
        "colab": {
          "base_uri": "https://localhost:8080/"
        }
      },
      "outputs": [
        {
          "output_type": "execute_result",
          "data": {
            "text/plain": [
              "{'Name': 'Amazon River',\n",
              " 'Length': 6992,\n",
              " 'Countries': ['Brazil', 'Peru', 'Colombia'],\n",
              " 'Average Discharge': 209000}"
            ]
          },
          "metadata": {},
          "execution_count": 10
        }
      ],
      "source": [
        "river = {\n",
        "    \"Name\": \"Amazon River\",\n",
        "    \"Length\": 6400,\n",
        "    \"Countries\": [\"Brazil\", \"Peru\", \"Colombia\"]\n",
        "}\n",
        "river[\"Average Discharge\"] = 209000\n",
        "river[\"Length\"] = 6992\n",
        "river"
      ]
    },
    {
      "cell_type": "markdown",
      "metadata": {
        "id": "SOyJj7uWLIvn"
      },
      "source": [
        "## Exercise 7: Nested Data Structures\n",
        "\n",
        "Create a dictionary to represent a city that contains the city's name, population, and coordinates (latitude, longitude):\n",
        "\n",
        "- Name: \"Tokyo\"\n",
        "- Population: 13,515,271\n",
        "- Coordinates: (35.6895, 139.6917)\n",
        "\n",
        "Perform the following tasks:\n",
        "\n",
        "1. Access and print the population of the city.\n",
        "2. Access and print the city's latitude.\n",
        "3. Update the population to 14,000,000 and print the updated dictionary."
      ]
    },
    {
      "cell_type": "code",
      "execution_count": 23,
      "metadata": {
        "id": "AtOblG3rLIvo",
        "outputId": "dcbd6a9b-e938-40e1-b939-3238e726dbfd",
        "colab": {
          "base_uri": "https://localhost:8080/"
        }
      },
      "outputs": [
        {
          "output_type": "stream",
          "name": "stdout",
          "text": [
            "Tokyo\n",
            "139.6917\n",
            "14000000\n"
          ]
        }
      ],
      "source": [
        "data = {\"Name\": \"Tokyo\",\n",
        "        \"Population\": 13515271,\n",
        "        \"Coordinates\": (35.6895, 139.6917)}\n",
        "\n",
        "print(data[\"Name\"])\n",
        "print(data[\"Coordinates\"][1])\n",
        "data[\"Population\"] = 14000000\n",
        "print(data[\"Population\"])"
      ]
    },
    {
      "cell_type": "markdown",
      "metadata": {
        "id": "0K2W5ZUrLIvo"
      },
      "source": [
        "## Exercise 8: List Operations\n",
        "\n",
        "Given the list of cities from Exercise 3, perform the following operations:\n",
        "\n",
        "1. Sort the list of cities alphabetically by name.\n",
        "2. Create a new list that contains only the city names.\n",
        "3. Remove the last city from the original list and print the updated list."
      ]
    },
    {
      "cell_type": "code",
      "execution_count": 35,
      "metadata": {
        "id": "3AuHEubcLIvo",
        "outputId": "fc5c0d89-6485-4e2b-9145-41b923d44a84",
        "colab": {
          "base_uri": "https://localhost:8080/"
        }
      },
      "outputs": [
        {
          "output_type": "execute_result",
          "data": {
            "text/plain": [
              "['Chicago', 'Los Angeles', 'Miami']"
            ]
          },
          "metadata": {},
          "execution_count": 35
        }
      ],
      "source": [
        "city_names = [city[0] for city in cities]\n",
        "city_names.sort()\n",
        "city_names.pop()\n",
        "city_names"
      ]
    },
    {
      "cell_type": "markdown",
      "metadata": {
        "id": "KboSt90fLIvo"
      },
      "source": [
        "## Exercise 9: Dictionary Operations\n",
        "\n",
        "Using the dictionary from Exercise 6, perform the following tasks:\n",
        "\n",
        "1. Check if the key \"Length\" exists in the dictionary.\n",
        "2. Print all the keys in the dictionary.\n",
        "3. Print all the values in the dictionary."
      ]
    },
    {
      "cell_type": "code",
      "execution_count": 37,
      "metadata": {
        "id": "F-wfTX99LIvo",
        "outputId": "816ddfb2-5ab2-4555-84e5-0f7bf2659e74",
        "colab": {
          "base_uri": "https://localhost:8080/"
        }
      },
      "outputs": [
        {
          "output_type": "stream",
          "name": "stdout",
          "text": [
            "dict_keys(['Name', 'Length', 'Countries', 'Average Discharge'])\n",
            "dict_values(['Amazon River', 6992, ['Brazil', 'Peru', 'Colombia'], 209000])\n"
          ]
        }
      ],
      "source": [
        "print(river.keys())\n",
        "print(river.values())"
      ]
    },
    {
      "cell_type": "markdown",
      "metadata": {
        "id": "iurEN541LIvo"
      },
      "source": [
        "## Exercise 10: Practical Application\n",
        "\n",
        "Imagine you have a list of tuples, each representing a location with its name, latitude, and longitude:"
      ]
    },
    {
      "cell_type": "code",
      "execution_count": 38,
      "metadata": {
        "id": "wU7Z5-rlLIvo"
      },
      "outputs": [],
      "source": [
        "locations = [\n",
        "    (\"Mount Everest\", 27.9881, 86.9250),\n",
        "    (\"K2\", 35.8808, 76.5155),\n",
        "    (\"Kangchenjunga\", 27.7025, 88.1475),\n",
        "]"
      ]
    },
    {
      "cell_type": "markdown",
      "metadata": {
        "id": "0hAIpQdOLIvp"
      },
      "source": [
        "Perform the following tasks:\n",
        "\n",
        "1. Create a new list that contains only the names of the locations.\n",
        "2. Create a dictionary where the keys are location names and the values are tuples of their coordinates.\n",
        "3. Print the latitude of \"K2\" using the dictionary."
      ]
    },
    {
      "cell_type": "code",
      "execution_count": 39,
      "metadata": {
        "id": "exhIwMnPLIvp",
        "outputId": "0e310513-69b0-450d-97ad-87d01d1de166",
        "colab": {
          "base_uri": "https://localhost:8080/"
        }
      },
      "outputs": [
        {
          "output_type": "execute_result",
          "data": {
            "text/plain": [
              "(35.8808, 76.5155)"
            ]
          },
          "metadata": {},
          "execution_count": 39
        }
      ],
      "source": [
        "location_names = [location[0] for location in locations]\n",
        "location_names\n",
        "location_dict = {location[0]: (location[1], location[2]) for location in locations}\n",
        "location_dict[\"K2\"]"
      ]
    },
    {
      "cell_type": "markdown",
      "metadata": {
        "id": "n7js0qr8LIvp"
      },
      "source": [
        "## Exercise 11: Manipulating Geographic Location Strings\n",
        "\n",
        "- Create a string that represents the name of a geographic feature (e.g., `\"Amazon River\"`).\n",
        "- Convert the string to lowercase and then to uppercase.\n",
        "- Concatenate the string with the name of the country (e.g., `\"Brazil\"`) to create a full location name.\n",
        "- Repeat the string three times, separating each repetition with a dash (`-`)."
      ]
    },
    {
      "cell_type": "code",
      "execution_count": 43,
      "metadata": {
        "id": "stVxGSmLLIvq",
        "outputId": "332a5049-f35b-4bc2-db58-9c4d7d8c6d75",
        "colab": {
          "base_uri": "https://localhost:8080/"
        }
      },
      "outputs": [
        {
          "output_type": "stream",
          "name": "stdout",
          "text": [
            "amazon river\n",
            "AMAZON RIVER\n",
            "Amazon River Brazil\n",
            "Amazon River-Amazon River-Amazon River-\n"
          ]
        }
      ],
      "source": [
        "amazon = \"Amazon River\"\n",
        "print(amazon.lower())\n",
        "print(amazon.upper())\n",
        "print(amazon + \" Brazil\")\n",
        "print((amazon + \"-\") * 3)"
      ]
    },
    {
      "cell_type": "markdown",
      "metadata": {
        "id": "Wj48ObIZLIvq"
      },
      "source": [
        "## Exercise 12: Extracting and Formatting Coordinates\n",
        "\n",
        "- Given a string with the format `\"latitude, longitude\"` (e.g., `\"40.7128N, 74.0060W\"`), extract the numeric values of latitude and longitude.\n",
        "- Convert these values to floats and remove the directional indicators (`N`, `S`, `E`, `W`).\n",
        "- Format the coordinates into a `POINT` WKT string (e.g., `\"POINT(-74.0060 40.7128)\"`)."
      ]
    },
    {
      "cell_type": "code",
      "execution_count": 55,
      "metadata": {
        "id": "VdGIVlEdLIvq",
        "outputId": "86eb23ea-9db3-4f30-c488-a1c4d7c7e198",
        "colab": {
          "base_uri": "https://localhost:8080/"
        }
      },
      "outputs": [
        {
          "output_type": "stream",
          "name": "stdout",
          "text": [
            "POINT(-74.006 40.7128)\n"
          ]
        }
      ],
      "source": [
        "new_york_city = \"40.7128N, 74.0060W\"\n",
        "latitude, longitude = new_york_city.split(\", \")\n",
        "if latitude[-1] == \"S\":\n",
        "    latitude = \"-\" + latitude[:-1]\n",
        "elif longitude[-1] == \"W\":\n",
        "    longitude = \"-\" + longitude[:-1]\n",
        "latitude = float(latitude[:-1])\n",
        "\n",
        "longitude = float(longitude[:-1])\n",
        "\n",
        "print(f\"POINT({longitude} {latitude})\")"
      ]
    },
    {
      "cell_type": "markdown",
      "metadata": {
        "id": "pTVshA8oLIvq"
      },
      "source": [
        "## Exercise 13: Building Dynamic SQL Queries\n",
        "\n",
        "- Given a table name and a condition, dynamically build an SQL query string.\n",
        "- Example: If `table_name = \"cities\"` and `condition = \"population > 1000000\"`, the query should be `\"SELECT * FROM cities WHERE population > 1000000;\"`.\n",
        "- Add additional conditions dynamically, like `AND` clauses."
      ]
    },
    {
      "cell_type": "code",
      "execution_count": 57,
      "metadata": {
        "id": "TBUdIAHmLIvq",
        "outputId": "8a770e0a-9b0f-4ac4-998d-ee0d9c081a37",
        "colab": {
          "base_uri": "https://localhost:8080/"
        }
      },
      "outputs": [
        {
          "output_type": "stream",
          "name": "stdout",
          "text": [
            "SELECT * FROM cities WHERE population = 'population > 100000';\n"
          ]
        }
      ],
      "source": [
        "table_name = \"cities\"\n",
        "condition = \"population = 'population > 100000'\"\n",
        "sql_query = f\"SELECT * FROM {table_name} WHERE {condition};\"\n",
        "print(sql_query)"
      ]
    },
    {
      "cell_type": "markdown",
      "metadata": {
        "id": "vsfbK3kILIvq"
      },
      "source": [
        "## Exercise 14: String Normalization and Cleaning\n",
        "\n",
        "- Given a list of city names with inconsistent formatting (e.g., `[\" new york \", \"Los ANGELES\", \"   CHICAGO\"]`), normalize the names by:\n",
        "  - Stripping any leading or trailing whitespace.\n",
        "  - Converting them to title case (e.g., `\"New York\"`, `\"Los Angeles\"`, `\"Chicago\"`).\n",
        "- Ensure that the output is a clean list of city names."
      ]
    },
    {
      "cell_type": "code",
      "execution_count": 58,
      "metadata": {
        "id": "LExV40HvLIvq",
        "outputId": "cb8d2429-c9ed-472d-f786-22cf86c02f04",
        "colab": {
          "base_uri": "https://localhost:8080/"
        }
      },
      "outputs": [
        {
          "output_type": "execute_result",
          "data": {
            "text/plain": [
              "['New York', 'Los Angeles', 'Chicago']"
            ]
          },
          "metadata": {},
          "execution_count": 58
        }
      ],
      "source": [
        "city_names = [\" new york \", \"Los ANGELES\", \"   CHICAGO\"]\n",
        "clean_city_names = [city.strip().title() for city in city_names]\n",
        "clean_city_names"
      ]
    },
    {
      "cell_type": "markdown",
      "metadata": {
        "id": "cevzWJzNLIvq"
      },
      "source": [
        "## Exercise 15: Parsing and Extracting Address Information\n",
        "\n",
        "- Given a string in the format `\"Street, City, Country\"` (e.g., `\"123 Main St, Springfield, USA\"`), write a function that parses the string into a dictionary with keys `street`, `city`, and `country`.\n",
        "- The function should return a dictionary like `{\"street\": \"123 Main St\", \"city\": \"Springfield\", \"country\": \"USA\"}`."
      ]
    },
    {
      "cell_type": "code",
      "execution_count": 59,
      "metadata": {
        "id": "8UdgdFOELIvr",
        "outputId": "182d9c71-b64b-4b9a-ccf9-0d5ebce0ace5",
        "colab": {
          "base_uri": "https://localhost:8080/"
        }
      },
      "outputs": [
        {
          "output_type": "execute_result",
          "data": {
            "text/plain": [
              "{'street': '123 Main St', 'city': 'Springfield', 'country': 'USA'}"
            ]
          },
          "metadata": {},
          "execution_count": 59
        }
      ],
      "source": [
        "address = \"123 Main St, Springfield, USA\"\n",
        "def make_address(address):\n",
        "    street, city, country = address.split(\", \")\n",
        "    return {\"street\": street, \"city\": city, \"country\": country}\n",
        "make_address(address)"
      ]
    },
    {
      "cell_type": "markdown",
      "metadata": {
        "id": "24ebayLhLIvr"
      },
      "source": [
        "## Exercise 16: Using For Loops to Process Coordinate Lists\n",
        "\n",
        "- Create a list of tuples representing coordinates (latitude, longitude).\n",
        "- Write a `for` loop that prints each coordinate and indicates whether it is in the Northern or Southern Hemisphere based on the latitude."
      ]
    },
    {
      "cell_type": "code",
      "execution_count": 61,
      "metadata": {
        "id": "kKw155D5LIvr",
        "outputId": "65785041-9ead-41ea-8a8d-909c2ece551e",
        "colab": {
          "base_uri": "https://localhost:8080/"
        }
      },
      "outputs": [
        {
          "output_type": "stream",
          "name": "stdout",
          "text": [
            "(40.7128, -74.006) is in the Northern Hemisphere\n",
            "(-34.0522, -118.2437) is in the Southern Hemisphere\n",
            "(41.8781, 87.6298) is in the Northern Hemisphere\n"
          ]
        }
      ],
      "source": [
        "coords = [(40.7128, -74.0060), (-34.0522, -118.2437), (41.8781, 87.6298)]\n",
        "for coord in coords:\n",
        "    if coord[0] >= 0:\n",
        "        print(f\"{coord} is in the Northern Hemisphere\")\n",
        "    else:\n",
        "        print(f\"{coord} is in the Southern Hemisphere\")"
      ]
    },
    {
      "cell_type": "markdown",
      "metadata": {
        "id": "dqgNJAN4LIvr"
      },
      "source": [
        "## Exercise 17: While Loops for Iterative Processing\n",
        "\n",
        "- Create a list of coordinates (latitude, longitude).\n",
        "- Write a `while` loop that continues to print each coordinate until it encounters a coordinate with a negative latitude.\n",
        "- Stop the loop once this condition is met."
      ]
    },
    {
      "cell_type": "code",
      "execution_count": 62,
      "metadata": {
        "id": "FwD2jXi1LIvr",
        "outputId": "301f6619-0733-40f1-dbc9-2c37605a791a",
        "colab": {
          "base_uri": "https://localhost:8080/"
        }
      },
      "outputs": [
        {
          "output_type": "stream",
          "name": "stdout",
          "text": [
            "(40.7128, -74.006)\n",
            "(34.0522, -118.2437)\n",
            "(41.8781, 87.6298)\n"
          ]
        }
      ],
      "source": [
        "coords = [(40.7128, -74.0060), (34.0522, -118.2437), (41.8781, 87.6298), (-34.0522, -118.2437)]\n",
        "i = 0\n",
        "while coords[i][0] >= 0:\n",
        "    print(coords[i])\n",
        "    i += 1"
      ]
    },
    {
      "cell_type": "markdown",
      "metadata": {
        "id": "qfxcGF3nLIvr"
      },
      "source": [
        "## Exercise 18: Conditional Logic in Loops\n",
        "\n",
        "- Create a list of coordinates and use a `for` loop to iterate over them.\n",
        "- Use an `if-elif-else` statement inside the loop to classify each coordinate based on its longitude:\n",
        "  - Print `\"Eastern Hemisphere\"` if the longitude is greater than 0.\n",
        "  - Print `\"Western Hemisphere\"` if the longitude is less than 0."
      ]
    },
    {
      "cell_type": "code",
      "execution_count": 63,
      "metadata": {
        "id": "xQ0Zb6TpLIvs",
        "outputId": "7591c324-3b4d-4318-8d6d-b1e5f24fc06e",
        "colab": {
          "base_uri": "https://localhost:8080/"
        }
      },
      "outputs": [
        {
          "output_type": "stream",
          "name": "stdout",
          "text": [
            "Western Hemisphere\n",
            "Western Hemisphere\n",
            "Eastern Hemisphere\n"
          ]
        }
      ],
      "source": [
        "coords = [(40.7128, -74.0060), (34.0522, -118.2437), (41.8781, 87.6298)]\n",
        "for coord in coords:\n",
        "    if coord[1] > 0:\n",
        "        print(\"Eastern Hemisphere\")\n",
        "    elif coord[1] < 0:\n",
        "        print(\"Western Hemisphere\")"
      ]
    },
    {
      "cell_type": "markdown",
      "metadata": {
        "id": "0e3Juwj0LIvs"
      },
      "source": [
        "## Exercise 19: Filtering Data with Combined Loops and Conditionals\n",
        "\n",
        "- Given a list of coordinates, filter out and store only those located in the Southern Hemisphere (latitude < 0).\n",
        "- Count the number of coordinates that meet this condition and print the result."
      ]
    },
    {
      "cell_type": "code",
      "execution_count": 65,
      "metadata": {
        "id": "1NK21dmSLIvs",
        "outputId": "179564ea-1365-428d-80a1-5a0c2f038062",
        "colab": {
          "base_uri": "https://localhost:8080/"
        }
      },
      "outputs": [
        {
          "output_type": "stream",
          "name": "stdout",
          "text": [
            "2\n"
          ]
        }
      ],
      "source": [
        "coords = [(40.7128, -74.0060), (-34.0522, -118.2437), (-41.8781, 87.6298)]\n",
        "southern_coords = []\n",
        "for coord in coords:\n",
        "    if coord[0] < 0:\n",
        "        southern_coords.append(coord)\n",
        "print(len(southern_coords))"
      ]
    },
    {
      "cell_type": "markdown",
      "metadata": {
        "id": "v0RsHtRELIvt"
      },
      "source": [
        "## Exercise 20: Generating and Analyzing Random Coordinates\n",
        "\n",
        "- Write a program that generates random coordinates (latitude between [-90, 90] degrees and longitude between [-180, 180] degrees).\n",
        "- Use a `while` loop to keep generating coordinates until a pair with both latitude and longitude greater than 50 is generated.\n",
        "- Print each generated coordinate and the final coordinate that meets the condition."
      ]
    },
    {
      "cell_type": "code",
      "execution_count": 67,
      "metadata": {
        "id": "6TAV-hOFLIvt",
        "outputId": "f5e78ecd-d2b9-4c05-c1f3-fbde29b67a1b",
        "colab": {
          "base_uri": "https://localhost:8080/"
        }
      },
      "outputs": [
        {
          "output_type": "stream",
          "name": "stdout",
          "text": [
            "[(-68.28815072252411, 102.23480588608294), (-45.855467453983344, 99.47598274883097), (-70.25008842989462, 159.34980984542347), (-12.035502103806337, 53.80296647185534), (-1.9855448484245386, -87.14284507767194), (-83.68145410838369, -137.0484010854144), (57.382495816748786, 176.10734160471094)]\n"
          ]
        }
      ],
      "source": [
        "import random\n",
        "ran_coords = []\n",
        "while True:\n",
        "    latitude = random.uniform(-90, 90)\n",
        "    longitude = random.uniform(-180, 180)\n",
        "    ran_coords.append((latitude, longitude))\n",
        "    if latitude > 50 and longitude > 50:\n",
        "        break\n",
        "print(ran_coords)"
      ]
    },
    {
      "cell_type": "markdown",
      "metadata": {
        "id": "ROk5znIfLIvt"
      },
      "source": [
        "## Submission Requirements\n",
        "\n",
        "Complete the exercises above and and upload the notebook to your GitHub repository. Make sure the notebook has a Colab badge at the top so that it can be easily opened in Google Colab. Submit the URL of the notebook to Canvas."
      ]
    }
  ],
  "metadata": {
    "kernelspec": {
      "display_name": "Python 3 (ipykernel)",
      "language": "python",
      "name": "python3"
    },
    "language_info": {
      "codemirror_mode": {
        "name": "ipython",
        "version": 3
      },
      "file_extension": ".py",
      "mimetype": "text/x-python",
      "name": "python",
      "nbconvert_exporter": "python",
      "pygments_lexer": "ipython3",
      "version": "3.12.2"
    },
    "colab": {
      "provenance": []
    }
  },
  "nbformat": 4,
  "nbformat_minor": 0
}
